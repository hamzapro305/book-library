{
 "cells": [
  {
   "cell_type": "code",
   "execution_count": 22,
   "metadata": {},
   "outputs": [],
   "source": [
    "import pandas as pd\n",
    "import numpy as np"
   ]
  },
  {
   "cell_type": "code",
   "execution_count": 23,
   "id": "15bd0db6",
   "metadata": {},
   "outputs": [],
   "source": [
    "df = pd.read_csv(\"data.csv\", dtype=str)"
   ]
  },
  {
   "cell_type": "code",
   "execution_count": 24,
   "id": "921c4e9f",
   "metadata": {},
   "outputs": [
    {
     "data": {
      "text/plain": [
       "Index(['_id', 'title', 'author', 'yearPublishedAt', 'publisher',\n",
       "       'imageURL_small', 'imageURL_medium', 'imageURL_large'],\n",
       "      dtype='object')"
      ]
     },
     "execution_count": 24,
     "metadata": {},
     "output_type": "execute_result"
    }
   ],
   "source": [
    "df.columns"
   ]
  },
  {
   "cell_type": "code",
   "execution_count": 25,
   "id": "0ae1b4b9",
   "metadata": {},
   "outputs": [
    {
     "data": {
      "text/plain": [
       "Series([], Name: title, dtype: object)"
      ]
     },
     "execution_count": 25,
     "metadata": {},
     "output_type": "execute_result"
    }
   ],
   "source": [
    "df[\"title\"][df[\"title\"].apply(lambda x: '\"' in x)]"
   ]
  },
  {
   "cell_type": "code",
   "execution_count": 26,
   "id": "26d3630d",
   "metadata": {},
   "outputs": [],
   "source": [
    "df['imageURL_small'] = df['imageURL_small'].apply(lambda x: 'undefined' if 'http' not in str(x) else x)\n"
   ]
  },
  {
   "cell_type": "code",
   "execution_count": 27,
   "id": "868956b1",
   "metadata": {},
   "outputs": [],
   "source": [
    "df['imageURL_medium'] = df['imageURL_medium'].apply(lambda x: 'undefined' if 'http' not in str(x) else x)\n"
   ]
  },
  {
   "cell_type": "code",
   "execution_count": 28,
   "id": "4317c331",
   "metadata": {},
   "outputs": [],
   "source": [
    "df['imageURL_large'] = df['imageURL_large'].apply(lambda x: 'undefined' if 'http' not in str(x) else x)\n"
   ]
  },
  {
   "cell_type": "code",
   "execution_count": 29,
   "id": "21f9419c",
   "metadata": {},
   "outputs": [],
   "source": [
    "def isNumber(value):\n",
    "    try:\n",
    "        float(value)\n",
    "        return True\n",
    "    except ValueError:\n",
    "        return False\n"
   ]
  },
  {
   "cell_type": "code",
   "execution_count": 30,
   "id": "35a2f630",
   "metadata": {},
   "outputs": [
    {
     "data": {
      "text/plain": [
       "29814     NaN\n",
       "42662     NaN\n",
       "90872     NaN\n",
       "118785    NaN\n",
       "132017    NaN\n",
       "156697    NaN\n",
       "182227    NaN\n",
       "192261    NaN\n",
       "235939    NaN\n",
       "261623    NaN\n",
       "269723    NaN\n",
       "Name: yearPublishedAt, dtype: object"
      ]
     },
     "execution_count": 30,
     "metadata": {},
     "output_type": "execute_result"
    }
   ],
   "source": [
    "df['yearPublishedAt'][df['yearPublishedAt'].isnull()]"
   ]
  },
  {
   "cell_type": "code",
   "execution_count": 31,
   "id": "35e89c69",
   "metadata": {},
   "outputs": [],
   "source": [
    "df['yearPublishedAt'] = df['yearPublishedAt'].apply(lambda x: 'Undefined' if not isNumber(x) else x)\n"
   ]
  },
  {
   "cell_type": "code",
   "execution_count": 32,
   "id": "95d47384",
   "metadata": {},
   "outputs": [
    {
     "data": {
      "text/plain": [
       "0         2002\n",
       "1         2001\n",
       "2         1991\n",
       "3         1999\n",
       "4         1999\n",
       "          ... \n",
       "271374    1988\n",
       "271375    1991\n",
       "271376    2004\n",
       "271377    1996\n",
       "271378    2000\n",
       "Name: yearPublishedAt, Length: 271379, dtype: object"
      ]
     },
     "execution_count": 32,
     "metadata": {},
     "output_type": "execute_result"
    }
   ],
   "source": [
    "df['yearPublishedAt']"
   ]
  },
  {
   "cell_type": "code",
   "execution_count": 33,
   "id": "ad7fe8db",
   "metadata": {},
   "outputs": [],
   "source": [
    "df = df.dropna()"
   ]
  },
  {
   "cell_type": "code",
   "execution_count": 34,
   "id": "0e0304f6",
   "metadata": {},
   "outputs": [
    {
     "data": {
      "text/plain": [
       "Series([], dtype: int64)"
      ]
     },
     "execution_count": 34,
     "metadata": {},
     "output_type": "execute_result"
    }
   ],
   "source": [
    "# Checking for null values\n",
    "NullData = df.isnull().sum().sort_values(ascending=False)\n",
    "NullData[NullData != 0]"
   ]
  },
  {
   "cell_type": "code",
   "execution_count": 35,
   "id": "5f128e3e",
   "metadata": {},
   "outputs": [],
   "source": [
    "df.to_csv(\"output.csv\", index=False)"
   ]
  }
 ],
 "metadata": {
  "kernelspec": {
   "display_name": "Python 3",
   "language": "python",
   "name": "python3"
  },
  "language_info": {
   "codemirror_mode": {
    "name": "ipython",
    "version": 3
   },
   "file_extension": ".py",
   "mimetype": "text/x-python",
   "name": "python",
   "nbconvert_exporter": "python",
   "pygments_lexer": "ipython3",
   "version": "3.10.6"
  }
 },
 "nbformat": 4,
 "nbformat_minor": 5
}
